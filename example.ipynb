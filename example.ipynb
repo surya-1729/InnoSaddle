{
 "cells": [
  {
   "cell_type": "code",
   "execution_count": 1,
   "metadata": {},
   "outputs": [],
   "source": [
    "import igl\n",
    "import meshplot as mp\n",
    "import numpy as np"
   ]
  },
  {
   "cell_type": "code",
   "execution_count": 2,
   "metadata": {},
   "outputs": [
    {
     "data": {
      "application/vnd.jupyter.widget-view+json": {
       "model_id": "bc4158912f214e4ca61f468630da0b11",
       "version_major": 2,
       "version_minor": 0
      },
      "text/plain": [
       "Renderer(camera=PerspectiveCamera(children=(DirectionalLight(color='white', intensity=0.6, position=(-0.020999…"
      ]
     },
     "metadata": {},
     "output_type": "display_data"
    },
    {
     "name": "stdout",
     "output_type": "stream",
     "text": [
      "shape of vertices =  (21048, 3)\n",
      "shape of triangles (31890, 3)\n"
     ]
    }
   ],
   "source": [
    "# loading and plotting mesh\n",
    "vert, tri = igl.read_triangle_mesh('./data/processed_data/0002_letti.obj')\n",
    "plot_mesh = mp.plot(vert, tri)\n",
    "print('shape of vertices = ',vert.shape)\n",
    "print('shape of triangles', tri.shape)"
   ]
  }
 ],
 "metadata": {
  "kernelspec": {
   "display_name": "ins",
   "language": "python",
   "name": "python3"
  },
  "language_info": {
   "codemirror_mode": {
    "name": "ipython",
    "version": 3
   },
   "file_extension": ".py",
   "mimetype": "text/x-python",
   "name": "python",
   "nbconvert_exporter": "python",
   "pygments_lexer": "ipython3",
   "version": "3.8.5"
  },
  "orig_nbformat": 4,
  "vscode": {
   "interpreter": {
    "hash": "a2b6bf7b1ce7d48f34388651bc7cdb26f186889c3970582e88bf82ef6fd831a5"
   }
  }
 },
 "nbformat": 4,
 "nbformat_minor": 2
}
